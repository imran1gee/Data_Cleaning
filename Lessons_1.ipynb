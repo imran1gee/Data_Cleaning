{
 "cells": [
  {
   "cell_type": "code",
   "execution_count": 1,
   "id": "193ba16a",
   "metadata": {},
   "outputs": [],
   "source": [
    "import pandas as pd"
   ]
  },
  {
   "cell_type": "code",
   "execution_count": 2,
   "id": "87d6e17d",
   "metadata": {},
   "outputs": [
    {
     "name": "stdout",
     "output_type": "stream",
     "text": [
      "         date    name  amount  price\n",
      "0  2021-03-01  carrot     7.0   5.73\n",
      "1  2021-03-01     egg    12.0   1.70\n",
      "2  2021-03-01    milk     NaN   3.57\n",
      "3  2021-03-01  potato     2.0    NaN\n",
      "4         NaN  tomato     6.0   1.52\n",
      "5  2021-03-02  potato     3.0   2.17\n",
      "6  2021-03-03     NaN     5.0   3.68\n"
     ]
    }
   ],
   "source": [
    "df_0 = pd.read_csv('cart.csv')\n",
    "print(df_0)"
   ]
  },
  {
   "cell_type": "code",
   "execution_count": 4,
   "id": "b10b457a",
   "metadata": {},
   "outputs": [
    {
     "name": "stdout",
     "output_type": "stream",
     "text": [
      "         date    name  amount  price\n",
      "0  2021-03-01  carrot       7   5.73\n",
      "1  2021-03-01     egg      12   1.70\n",
      "2  2021-03-01    milk    <NA>   3.57\n",
      "3  2021-03-01  potato       2    NaN\n",
      "4         NaN  tomato       6   1.52\n",
      "5  2021-03-02  potato       3   2.17\n",
      "6  2021-03-03     NaN       5   3.68\n"
     ]
    }
   ],
   "source": [
    "df_0['amount']=df_0['amount'].astype('Int32')\n",
    "print(df_0)"
   ]
  },
  {
   "cell_type": "code",
   "execution_count": 5,
   "id": "715148ed",
   "metadata": {},
   "outputs": [
    {
     "data": {
      "text/html": [
       "<div>\n",
       "<style scoped>\n",
       "    .dataframe tbody tr th:only-of-type {\n",
       "        vertical-align: middle;\n",
       "    }\n",
       "\n",
       "    .dataframe tbody tr th {\n",
       "        vertical-align: top;\n",
       "    }\n",
       "\n",
       "    .dataframe thead th {\n",
       "        text-align: right;\n",
       "    }\n",
       "</style>\n",
       "<table border=\"1\" class=\"dataframe\">\n",
       "  <thead>\n",
       "    <tr style=\"text-align: right;\">\n",
       "      <th></th>\n",
       "      <th>date</th>\n",
       "      <th>name</th>\n",
       "      <th>amount</th>\n",
       "      <th>price</th>\n",
       "    </tr>\n",
       "  </thead>\n",
       "  <tbody>\n",
       "    <tr>\n",
       "      <th>0</th>\n",
       "      <td>False</td>\n",
       "      <td>False</td>\n",
       "      <td>False</td>\n",
       "      <td>False</td>\n",
       "    </tr>\n",
       "    <tr>\n",
       "      <th>1</th>\n",
       "      <td>False</td>\n",
       "      <td>False</td>\n",
       "      <td>False</td>\n",
       "      <td>False</td>\n",
       "    </tr>\n",
       "    <tr>\n",
       "      <th>2</th>\n",
       "      <td>False</td>\n",
       "      <td>False</td>\n",
       "      <td>True</td>\n",
       "      <td>False</td>\n",
       "    </tr>\n",
       "    <tr>\n",
       "      <th>3</th>\n",
       "      <td>False</td>\n",
       "      <td>False</td>\n",
       "      <td>False</td>\n",
       "      <td>True</td>\n",
       "    </tr>\n",
       "    <tr>\n",
       "      <th>4</th>\n",
       "      <td>True</td>\n",
       "      <td>False</td>\n",
       "      <td>False</td>\n",
       "      <td>False</td>\n",
       "    </tr>\n",
       "    <tr>\n",
       "      <th>5</th>\n",
       "      <td>False</td>\n",
       "      <td>False</td>\n",
       "      <td>False</td>\n",
       "      <td>False</td>\n",
       "    </tr>\n",
       "    <tr>\n",
       "      <th>6</th>\n",
       "      <td>False</td>\n",
       "      <td>True</td>\n",
       "      <td>False</td>\n",
       "      <td>False</td>\n",
       "    </tr>\n",
       "  </tbody>\n",
       "</table>\n",
       "</div>"
      ],
      "text/plain": [
       "    date   name  amount  price\n",
       "0  False  False   False  False\n",
       "1  False  False   False  False\n",
       "2  False  False    True  False\n",
       "3  False  False   False   True\n",
       "4   True  False   False  False\n",
       "5  False  False   False  False\n",
       "6  False   True   False  False"
      ]
     },
     "execution_count": 5,
     "metadata": {},
     "output_type": "execute_result"
    }
   ],
   "source": [
    "df_0.isnull()"
   ]
  },
  {
   "cell_type": "code",
   "execution_count": 7,
   "id": "1236c1b8",
   "metadata": {},
   "outputs": [
    {
     "data": {
      "text/plain": [
       "0    False\n",
       "1    False\n",
       "2     True\n",
       "3     True\n",
       "4     True\n",
       "5    False\n",
       "6     True\n",
       "dtype: bool"
      ]
     },
     "execution_count": 7,
     "metadata": {},
     "output_type": "execute_result"
    }
   ],
   "source": [
    "df_0.isnull().any(axis=1)"
   ]
  },
  {
   "cell_type": "code",
   "execution_count": 9,
   "id": "09d587ac",
   "metadata": {},
   "outputs": [
    {
     "name": "stdout",
     "output_type": "stream",
     "text": [
      "                      time name         value\n",
      "75 2021-07-13 14:37:27.789  mem  2.274959e+08\n",
      "38 2021-07-13 14:37:10.563  cpu  2.737000e+01\n",
      "27 2021-07-13 14:37:04.821  cpu  2.952000e+01\n",
      "81 2021-07-13 14:37:30.660  mem  2.274995e+08\n",
      "2  2021-07-13 14:36:53.337  mem  2.275192e+08\n",
      "79 2021-07-13 14:37:29.703  mem  2.275184e+08\n",
      "71 2021-07-13 14:37:25.875  mem  2.274978e+08\n",
      "25 2021-07-13 14:37:03.864  mem  2.275177e+08\n",
      "56 2021-07-13 14:37:19.176  cpu  3.060000e+01\n",
      "50 2021-07-13 14:37:16.305  cpu  2.954000e+01\n"
     ]
    }
   ],
   "source": [
    "df_1 = pd.read_csv('metrics.csv',parse_dates=['time'])\n",
    "print(df_1.sample(10))"
   ]
  },
  {
   "cell_type": "code",
   "execution_count": 12,
   "id": "9e0c2506",
   "metadata": {},
   "outputs": [
    {
     "data": {
      "text/html": [
       "<div>\n",
       "<style scoped>\n",
       "    .dataframe tbody tr th:only-of-type {\n",
       "        vertical-align: middle;\n",
       "    }\n",
       "\n",
       "    .dataframe tbody tr th {\n",
       "        vertical-align: top;\n",
       "    }\n",
       "\n",
       "    .dataframe thead tr th {\n",
       "        text-align: left;\n",
       "    }\n",
       "\n",
       "    .dataframe thead tr:last-of-type th {\n",
       "        text-align: right;\n",
       "    }\n",
       "</style>\n",
       "<table border=\"1\" class=\"dataframe\">\n",
       "  <thead>\n",
       "    <tr>\n",
       "      <th></th>\n",
       "      <th colspan=\"8\" halign=\"left\">value</th>\n",
       "    </tr>\n",
       "    <tr>\n",
       "      <th></th>\n",
       "      <th>count</th>\n",
       "      <th>mean</th>\n",
       "      <th>std</th>\n",
       "      <th>min</th>\n",
       "      <th>25%</th>\n",
       "      <th>50%</th>\n",
       "      <th>75%</th>\n",
       "      <th>max</th>\n",
       "    </tr>\n",
       "    <tr>\n",
       "      <th>name</th>\n",
       "      <th></th>\n",
       "      <th></th>\n",
       "      <th></th>\n",
       "      <th></th>\n",
       "      <th></th>\n",
       "      <th></th>\n",
       "      <th></th>\n",
       "      <th></th>\n",
       "    </tr>\n",
       "  </thead>\n",
       "  <tbody>\n",
       "    <tr>\n",
       "      <th>CPU</th>\n",
       "      <td>1.0</td>\n",
       "      <td>3.040000e+01</td>\n",
       "      <td>NaN</td>\n",
       "      <td>30.40</td>\n",
       "      <td>3.040000e+01</td>\n",
       "      <td>3.040000e+01</td>\n",
       "      <td>3.040000e+01</td>\n",
       "      <td>30.4</td>\n",
       "    </tr>\n",
       "    <tr>\n",
       "      <th>cpu</th>\n",
       "      <td>49.0</td>\n",
       "      <td>3.645633e+01</td>\n",
       "      <td>3.977927e+01</td>\n",
       "      <td>-32.14</td>\n",
       "      <td>2.956000e+01</td>\n",
       "      <td>3.157000e+01</td>\n",
       "      <td>3.507000e+01</td>\n",
       "      <td>300.9</td>\n",
       "    </tr>\n",
       "    <tr>\n",
       "      <th>mem</th>\n",
       "      <td>50.0</td>\n",
       "      <td>2.229711e+08</td>\n",
       "      <td>3.217637e+07</td>\n",
       "      <td>295.00</td>\n",
       "      <td>2.275070e+08</td>\n",
       "      <td>2.275188e+08</td>\n",
       "      <td>2.275342e+08</td>\n",
       "      <td>227556054.0</td>\n",
       "    </tr>\n",
       "  </tbody>\n",
       "</table>\n",
       "</div>"
      ],
      "text/plain": [
       "     value                                                                  \\\n",
       "     count          mean           std     min           25%           50%   \n",
       "name                                                                         \n",
       "CPU    1.0  3.040000e+01           NaN   30.40  3.040000e+01  3.040000e+01   \n",
       "cpu   49.0  3.645633e+01  3.977927e+01  -32.14  2.956000e+01  3.157000e+01   \n",
       "mem   50.0  2.229711e+08  3.217637e+07  295.00  2.275070e+08  2.275188e+08   \n",
       "\n",
       "                                 \n",
       "               75%          max  \n",
       "name                             \n",
       "CPU   3.040000e+01         30.4  \n",
       "cpu   3.507000e+01        300.9  \n",
       "mem   2.275342e+08  227556054.0  "
      ]
     },
     "execution_count": 12,
     "metadata": {},
     "output_type": "execute_result"
    }
   ],
   "source": [
    "df_1.groupby('name').describe()"
   ]
  },
  {
   "cell_type": "code",
   "execution_count": 14,
   "id": "0a38d1f3",
   "metadata": {},
   "outputs": [
    {
     "data": {
      "text/plain": [
       "mem    50\n",
       "cpu    49\n",
       "CPU     1\n",
       "Name: name, dtype: int64"
      ]
     },
     "execution_count": 14,
     "metadata": {},
     "output_type": "execute_result"
    }
   ],
   "source": [
    "df_1['name'].value_counts()"
   ]
  },
  {
   "cell_type": "code",
   "execution_count": 15,
   "id": "d30eabdf",
   "metadata": {},
   "outputs": [
    {
     "data": {
      "text/plain": [
       "array([<AxesSubplot:xlabel='time'>, <AxesSubplot:xlabel='time'>,\n",
       "       <AxesSubplot:xlabel='time'>], dtype=object)"
      ]
     },
     "execution_count": 15,
     "metadata": {},
     "output_type": "execute_result"
    },
    {
     "data": {
      "image/png": "[encoded data removed]",
      "text/plain": [
       "<Figure size 432x288 with 3 Axes>"
      ]
     },
     "metadata": {
      "needs_background": "light"
     },
     "output_type": "display_data"
    }
   ],
   "source": [
    "pd.pivot(df_1, index='time', columns='name').plot(subplots=True)"
   ]
  },
  {
   "cell_type": "code",
   "execution_count": 17,
   "id": "22a96549",
   "metadata": {},
   "outputs": [
    {
     "data": {
      "text/html": [
       "<div>\n",
       "<style scoped>\n",
       "    .dataframe tbody tr th:only-of-type {\n",
       "        vertical-align: middle;\n",
       "    }\n",
       "\n",
       "    .dataframe tbody tr th {\n",
       "        vertical-align: top;\n",
       "    }\n",
       "\n",
       "    .dataframe thead th {\n",
       "        text-align: right;\n",
       "    }\n",
       "</style>\n",
       "<table border=\"1\" class=\"dataframe\">\n",
       "  <thead>\n",
       "    <tr style=\"text-align: right;\">\n",
       "      <th></th>\n",
       "      <th>time</th>\n",
       "      <th>name</th>\n",
       "      <th>value</th>\n",
       "    </tr>\n",
       "  </thead>\n",
       "  <tbody>\n",
       "    <tr>\n",
       "      <th>3</th>\n",
       "      <td>2021-07-13 14:36:53.337</td>\n",
       "      <td>cpu</td>\n",
       "      <td>300.90</td>\n",
       "    </tr>\n",
       "    <tr>\n",
       "      <th>9</th>\n",
       "      <td>2021-07-13 14:36:56.208</td>\n",
       "      <td>cpu</td>\n",
       "      <td>-32.14</td>\n",
       "    </tr>\n",
       "  </tbody>\n",
       "</table>\n",
       "</div>"
      ],
      "text/plain": [
       "                     time name   value\n",
       "3 2021-07-13 14:36:53.337  cpu  300.90\n",
       "9 2021-07-13 14:36:56.208  cpu  -32.14"
      ]
     },
     "execution_count": 17,
     "metadata": {},
     "output_type": "execute_result"
    }
   ],
   "source": [
    "df_1.query('name == \"cpu\" & (value < 0 | value > 100)')"
   ]
  },
  {
   "cell_type": "code",
   "execution_count": 23,
   "id": "ecc92675",
   "metadata": {},
   "outputs": [
    {
     "name": "stdout",
     "output_type": "stream",
     "text": [
      "(50,)\n"
     ]
    }
   ],
   "source": [
    "mem = df_1[df_1['name'] == 'mem']['value']\n",
    "#mem_c = df_1[df_1['name'] == 'mem']\n",
    "#print(mem.shape)"
   ]
  },
  {
   "cell_type": "code",
   "execution_count": 38,
   "id": "22ea9bad",
   "metadata": {},
   "outputs": [
    {
     "data": {
      "text/html": [
       "<div>\n",
       "<style scoped>\n",
       "    .dataframe tbody tr th:only-of-type {\n",
       "        vertical-align: middle;\n",
       "    }\n",
       "\n",
       "    .dataframe tbody tr th {\n",
       "        vertical-align: top;\n",
       "    }\n",
       "\n",
       "    .dataframe thead th {\n",
       "        text-align: right;\n",
       "    }\n",
       "</style>\n",
       "<table border=\"1\" class=\"dataframe\">\n",
       "  <thead>\n",
       "    <tr style=\"text-align: right;\">\n",
       "      <th></th>\n",
       "      <th>time</th>\n",
       "      <th>name</th>\n",
       "      <th>value</th>\n",
       "    </tr>\n",
       "  </thead>\n",
       "  <tbody>\n",
       "    <tr>\n",
       "      <th>6</th>\n",
       "      <td>2021-07-13 14:36:55.251</td>\n",
       "      <td>mem</td>\n",
       "      <td>295.0</td>\n",
       "    </tr>\n",
       "  </tbody>\n",
       "</table>\n",
       "</div>"
      ],
      "text/plain": [
       "                     time name  value\n",
       "6 2021-07-13 14:36:55.251  mem  295.0"
      ]
     },
     "execution_count": 38,
     "metadata": {},
     "output_type": "execute_result"
    }
   ],
   "source": [
    "z_score = (mem - mem.mean())/mem.std()\n",
    "#print(z_score.shape)\n",
    "bad_mem = mem[z_score.abs() > 2]\n",
    "#good_mem = mem[z_score.abs()<=2]\n",
    "#print(z_score.abs()>2)\n",
    "df_1.loc[bad_mem.index]"
   ]
  },
  {
   "cell_type": "code",
   "execution_count": 39,
   "id": "0e3a686d",
   "metadata": {},
   "outputs": [
    {
     "name": "stdout",
     "output_type": "stream",
     "text": [
      "        date    name  amount  price\n",
      "0 2021-03-01  carrot       7   5.73\n",
      "1 2021-03-01     egg      12   1.70\n",
      "2 2021-03-01     egg      12   1.20\n",
      "3 2021-03-01    milk       1   3.57\n",
      "4 2021-03-02  potato       3   2.17\n",
      "5 2021-03-02  potato       3   2.17\n"
     ]
    }
   ],
   "source": [
    "df_2 = pd.read_csv('cart_1.csv',parse_dates=['date'])\n",
    "print(df_2)"
   ]
  },
  {
   "cell_type": "code",
   "execution_count": 40,
   "id": "1bf3e401",
   "metadata": {},
   "outputs": [
    {
     "data": {
      "text/plain": [
       "0    False\n",
       "1    False\n",
       "2    False\n",
       "3    False\n",
       "4    False\n",
       "5     True\n",
       "dtype: bool"
      ]
     },
     "execution_count": 40,
     "metadata": {},
     "output_type": "execute_result"
    }
   ],
   "source": [
    "df_2.duplicated()"
   ]
  },
  {
   "cell_type": "code",
   "execution_count": 42,
   "id": "f6903e73",
   "metadata": {},
   "outputs": [
    {
     "data": {
      "text/plain": [
       "0    False\n",
       "1    False\n",
       "2     True\n",
       "3    False\n",
       "4    False\n",
       "5     True\n",
       "dtype: bool"
      ]
     },
     "execution_count": 42,
     "metadata": {},
     "output_type": "execute_result"
    }
   ],
   "source": [
    "df_2.duplicated(['date','name'])"
   ]
  },
  {
   "cell_type": "code",
   "execution_count": 43,
   "id": "b1441097",
   "metadata": {},
   "outputs": [
    {
     "data": {
      "text/html": [
       "<div>\n",
       "<style scoped>\n",
       "    .dataframe tbody tr th:only-of-type {\n",
       "        vertical-align: middle;\n",
       "    }\n",
       "\n",
       "    .dataframe tbody tr th {\n",
       "        vertical-align: top;\n",
       "    }\n",
       "\n",
       "    .dataframe thead th {\n",
       "        text-align: right;\n",
       "    }\n",
       "</style>\n",
       "<table border=\"1\" class=\"dataframe\">\n",
       "  <thead>\n",
       "    <tr style=\"text-align: right;\">\n",
       "      <th></th>\n",
       "      <th>name</th>\n",
       "      <th>lat</th>\n",
       "      <th>lng</th>\n",
       "    </tr>\n",
       "  </thead>\n",
       "  <tbody>\n",
       "    <tr>\n",
       "      <th>0</th>\n",
       "      <td>Black Pearl</td>\n",
       "      <td>20.664865</td>\n",
       "      <td>-80.709747</td>\n",
       "    </tr>\n",
       "    <tr>\n",
       "      <th>1</th>\n",
       "      <td>Cobra</td>\n",
       "      <td>20.664868</td>\n",
       "      <td>-80.709740</td>\n",
       "    </tr>\n",
       "    <tr>\n",
       "      <th>2</th>\n",
       "      <td>Flying Dutchman</td>\n",
       "      <td>20.664878</td>\n",
       "      <td>-80.709941</td>\n",
       "    </tr>\n",
       "    <tr>\n",
       "      <th>3</th>\n",
       "      <td>Empress</td>\n",
       "      <td>NaN</td>\n",
       "      <td>NaN</td>\n",
       "    </tr>\n",
       "  </tbody>\n",
       "</table>\n",
       "</div>"
      ],
      "text/plain": [
       "              name        lat        lng\n",
       "0      Black Pearl  20.664865 -80.709747\n",
       "1            Cobra  20.664868 -80.709740\n",
       "2  Flying Dutchman  20.664878 -80.709941\n",
       "3          Empress        NaN        NaN"
      ]
     },
     "execution_count": 43,
     "metadata": {},
     "output_type": "execute_result"
    }
   ],
   "source": [
    "df_3 = pd.read_csv('ships.csv')\n",
    "df_3"
   ]
  },
  {
   "cell_type": "code",
   "execution_count": 44,
   "id": "b4b19143",
   "metadata": {},
   "outputs": [
    {
     "data": {
      "text/plain": [
       "name     object\n",
       "lat     float64\n",
       "lng     float64\n",
       "dtype: object"
      ]
     },
     "execution_count": 44,
     "metadata": {},
     "output_type": "execute_result"
    }
   ],
   "source": [
    "df_3.dtypes"
   ]
  },
  {
   "cell_type": "code",
   "execution_count": 46,
   "id": "be345ae2",
   "metadata": {},
   "outputs": [],
   "source": [
    "import pandera as pa\n",
    "import numpy as np"
   ]
  },
  {
   "cell_type": "code",
   "execution_count": 49,
   "id": "6b7b68a7",
   "metadata": {},
   "outputs": [],
   "source": [
    "schema = pa.DataFrameSchema({\n",
    "    'name': pa.Column(pa.String),\n",
    "    'lat': pa.Column(pa.Float,nullable=True),\n",
    "    'lng': pa.Column(pa.Float,nullable=True),\n",
    "})"
   ]
  },
  {
   "cell_type": "code",
   "execution_count": 50,
   "id": "34426778",
   "metadata": {},
   "outputs": [
    {
     "data": {
      "text/html": [
       "<div>\n",
       "<style scoped>\n",
       "    .dataframe tbody tr th:only-of-type {\n",
       "        vertical-align: middle;\n",
       "    }\n",
       "\n",
       "    .dataframe tbody tr th {\n",
       "        vertical-align: top;\n",
       "    }\n",
       "\n",
       "    .dataframe thead th {\n",
       "        text-align: right;\n",
       "    }\n",
       "</style>\n",
       "<table border=\"1\" class=\"dataframe\">\n",
       "  <thead>\n",
       "    <tr style=\"text-align: right;\">\n",
       "      <th></th>\n",
       "      <th>name</th>\n",
       "      <th>lat</th>\n",
       "      <th>lng</th>\n",
       "    </tr>\n",
       "  </thead>\n",
       "  <tbody>\n",
       "    <tr>\n",
       "      <th>0</th>\n",
       "      <td>Black Pearl</td>\n",
       "      <td>20.664865</td>\n",
       "      <td>-80.709747</td>\n",
       "    </tr>\n",
       "    <tr>\n",
       "      <th>1</th>\n",
       "      <td>Cobra</td>\n",
       "      <td>20.664868</td>\n",
       "      <td>-80.709740</td>\n",
       "    </tr>\n",
       "    <tr>\n",
       "      <th>2</th>\n",
       "      <td>Flying Dutchman</td>\n",
       "      <td>20.664878</td>\n",
       "      <td>-80.709941</td>\n",
       "    </tr>\n",
       "    <tr>\n",
       "      <th>3</th>\n",
       "      <td>Empress</td>\n",
       "      <td>NaN</td>\n",
       "      <td>NaN</td>\n",
       "    </tr>\n",
       "  </tbody>\n",
       "</table>\n",
       "</div>"
      ],
      "text/plain": [
       "              name        lat        lng\n",
       "0      Black Pearl  20.664865 -80.709747\n",
       "1            Cobra  20.664868 -80.709740\n",
       "2  Flying Dutchman  20.664878 -80.709941\n",
       "3          Empress        NaN        NaN"
      ]
     },
     "execution_count": 50,
     "metadata": {},
     "output_type": "execute_result"
    }
   ],
   "source": [
    "schema.validate(df_3)"
   ]
  },
  {
   "cell_type": "code",
   "execution_count": null,
   "id": "67484e3b",
   "metadata": {},
   "outputs": [],
   "source": []
  }
 ],
 "metadata": {
  "kernelspec": {
   "display_name": "Python 3 (ipykernel)",
   "language": "python",
   "name": "python3"
  },
  "language_info": {
   "codemirror_mode": {
    "name": "ipython",
    "version": 3
   },
   "file_extension": ".py",
   "mimetype": "text/x-python",
   "name": "python",
   "nbconvert_exporter": "python",
   "pygments_lexer": "ipython3",
   "version": "3.9.12"
  }
 },
 "nbformat": 4,
 "nbformat_minor": 5
}
