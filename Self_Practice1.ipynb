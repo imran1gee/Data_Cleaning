{
 "cells": [
  {
   "cell_type": "code",
   "execution_count": 1,
   "id": "4c875db9",
   "metadata": {},
   "outputs": [],
   "source": [
    "import pandas as pd\n",
    "import numpy as np"
   ]
  },
  {
   "cell_type": "code",
   "execution_count": null,
   "id": "6de2c8d0",
   "metadata": {},
   "outputs": [],
   "source": [
    "# We are creating a fruits and its weight. We intentionally write the weight of the grapes nan\n",
    "#and the weight of the mango as ' '. \n",
    "#Now we use coding skill to convert the magno weight entry into nan"
   ]
  },
  {
   "cell_type": "code",
   "execution_count": 2,
   "id": "fbc4fb8b",
   "metadata": {},
   "outputs": [],
   "source": [
    "Mat = {'fruits':['Apple','Banana','Cherries','Grapes','Mango'], 'Weights':['5 kg', '10 kg', '14 kg',np.nan,' ']}"
   ]
  },
  {
   "cell_type": "code",
   "execution_count": 3,
   "id": "0a86bf1b",
   "metadata": {},
   "outputs": [
    {
     "data": {
      "text/html": [
       "<div>\n",
       "<style scoped>\n",
       "    .dataframe tbody tr th:only-of-type {\n",
       "        vertical-align: middle;\n",
       "    }\n",
       "\n",
       "    .dataframe tbody tr th {\n",
       "        vertical-align: top;\n",
       "    }\n",
       "\n",
       "    .dataframe thead th {\n",
       "        text-align: right;\n",
       "    }\n",
       "</style>\n",
       "<table border=\"1\" class=\"dataframe\">\n",
       "  <thead>\n",
       "    <tr style=\"text-align: right;\">\n",
       "      <th></th>\n",
       "      <th>fruits</th>\n",
       "      <th>Weights</th>\n",
       "    </tr>\n",
       "  </thead>\n",
       "  <tbody>\n",
       "    <tr>\n",
       "      <th>0</th>\n",
       "      <td>Apple</td>\n",
       "      <td>5 kg</td>\n",
       "    </tr>\n",
       "    <tr>\n",
       "      <th>1</th>\n",
       "      <td>Banana</td>\n",
       "      <td>10 kg</td>\n",
       "    </tr>\n",
       "    <tr>\n",
       "      <th>2</th>\n",
       "      <td>Cherries</td>\n",
       "      <td>14 kg</td>\n",
       "    </tr>\n",
       "    <tr>\n",
       "      <th>3</th>\n",
       "      <td>Grapes</td>\n",
       "      <td>NaN</td>\n",
       "    </tr>\n",
       "    <tr>\n",
       "      <th>4</th>\n",
       "      <td>Mango</td>\n",
       "      <td></td>\n",
       "    </tr>\n",
       "  </tbody>\n",
       "</table>\n",
       "</div>"
      ],
      "text/plain": [
       "     fruits Weights\n",
       "0     Apple    5 kg\n",
       "1    Banana   10 kg\n",
       "2  Cherries   14 kg\n",
       "3    Grapes     NaN\n",
       "4     Mango        "
      ]
     },
     "execution_count": 3,
     "metadata": {},
     "output_type": "execute_result"
    }
   ],
   "source": [
    "Data = pd.DataFrame(Mat)#This convert the dictionary into data frame\n",
    "Data # This is to print the Data"
   ]
  },
  {
   "cell_type": "code",
   "execution_count": 4,
   "id": "ae480dd1",
   "metadata": {},
   "outputs": [
    {
     "data": {
      "text/html": [
       "<div>\n",
       "<style scoped>\n",
       "    .dataframe tbody tr th:only-of-type {\n",
       "        vertical-align: middle;\n",
       "    }\n",
       "\n",
       "    .dataframe tbody tr th {\n",
       "        vertical-align: top;\n",
       "    }\n",
       "\n",
       "    .dataframe thead th {\n",
       "        text-align: right;\n",
       "    }\n",
       "</style>\n",
       "<table border=\"1\" class=\"dataframe\">\n",
       "  <thead>\n",
       "    <tr style=\"text-align: right;\">\n",
       "      <th></th>\n",
       "      <th>fruits</th>\n",
       "      <th>Weights</th>\n",
       "    </tr>\n",
       "  </thead>\n",
       "  <tbody>\n",
       "    <tr>\n",
       "      <th>3</th>\n",
       "      <td>Grapes</td>\n",
       "      <td>NaN</td>\n",
       "    </tr>\n",
       "  </tbody>\n",
       "</table>\n",
       "</div>"
      ],
      "text/plain": [
       "   fruits Weights\n",
       "3  Grapes     NaN"
      ]
     },
     "execution_count": 4,
     "metadata": {},
     "output_type": "execute_result"
    }
   ],
   "source": [
    "Data[Data.isnull().any(axis=1)] #This will check all the rows of data and locate the missing data"
   ]
  },
  {
   "cell_type": "code",
   "execution_count": 5,
   "id": "4fd6f6cb",
   "metadata": {},
   "outputs": [
    {
     "data": {
      "text/plain": [
       "' '"
      ]
     },
     "execution_count": 5,
     "metadata": {},
     "output_type": "execute_result"
    }
   ],
   "source": [
    "Data.iloc[-1]['Weights']"
   ]
  },
  {
   "cell_type": "code",
   "execution_count": null,
   "id": "722c4edd",
   "metadata": {},
   "outputs": [],
   "source": [
    "Data['Weights'] = Data['Weights'].str.strip()\n",
    "Data.iloc[-1]['Weights']"
   ]
  },
  {
   "cell_type": "code",
   "execution_count": null,
   "id": "55a47845",
   "metadata": {},
   "outputs": [],
   "source": [
    "mask = Data['Weights'].str.strip()==''\n",
    "Data.loc[mask,'Weights'] =np.nan\n",
    "Data"
   ]
  },
  {
   "cell_type": "code",
   "execution_count": null,
   "id": "e8f55574",
   "metadata": {},
   "outputs": [],
   "source": []
  }
 ],
 "metadata": {
  "kernelspec": {
   "display_name": "Python 3 (ipykernel)",
   "language": "python",
   "name": "python3"
  },
  "language_info": {
   "codemirror_mode": {
    "name": "ipython",
    "version": 3
   },
   "file_extension": ".py",
   "mimetype": "text/x-python",
   "name": "python",
   "nbconvert_exporter": "python",
   "pygments_lexer": "ipython3",
   "version": "3.9.12"
  }
 },
 "nbformat": 4,
 "nbformat_minor": 5
}
